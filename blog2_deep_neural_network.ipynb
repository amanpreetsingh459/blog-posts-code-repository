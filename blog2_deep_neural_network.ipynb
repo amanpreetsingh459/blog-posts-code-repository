{
 "cells": [
  {
   "cell_type": "code",
   "execution_count": 53,
   "metadata": {
    "collapsed": true
   },
   "outputs": [],
   "source": [
    "import numpy as np"
   ]
  },
  {
   "cell_type": "code",
   "execution_count": 54,
   "metadata": {
    "collapsed": true
   },
   "outputs": [],
   "source": [
    "#Input array\n",
    "X=np.array([[1,0,1,0],[1,0,1,1],[0,1,0,1]])\n",
    "\n",
    "#Output\n",
    "y=np.array([[1],[1],[0]])"
   ]
  },
  {
   "cell_type": "code",
   "execution_count": 108,
   "metadata": {
    "collapsed": false
   },
   "outputs": [
    {
     "name": "stdout",
     "output_type": "stream",
     "text": [
      "2\n",
      "[2]\n",
      "[[2]]\n"
     ]
    }
   ],
   "source": [
    "print(np.sum(y))\n",
    "print(np.sum(y, axis = 0))\n",
    "print(np.sum(y, axis = 0, keepdims=True))"
   ]
  },
  {
   "cell_type": "code",
   "execution_count": 55,
   "metadata": {
    "collapsed": false
   },
   "outputs": [
    {
     "name": "stdout",
     "output_type": "stream",
     "text": [
      "(3, 4)\n",
      "(3, 1)\n"
     ]
    }
   ],
   "source": [
    "print(X.shape)\n",
    "print(y.shape)"
   ]
  },
  {
   "cell_type": "code",
   "execution_count": 56,
   "metadata": {
    "collapsed": true
   },
   "outputs": [],
   "source": [
    "#Sigmoid Function\n",
    "def sigmoid (x):\n",
    "    return 1/(1 + np.exp(-x))\n",
    "\n",
    "#Derivative of Sigmoid Function\n",
    "def sigmoid_derivatives(x):\n",
    "    return x * (1 - x)"
   ]
  },
  {
   "cell_type": "code",
   "execution_count": 96,
   "metadata": {
    "collapsed": true
   },
   "outputs": [],
   "source": [
    "#Variable initialization\n",
    "epoch=10001 #Setting training iterations\n",
    "learning_rate=0.1 #Setting learning rate\n",
    "inputlayer_neurons = X.shape[1] #number of features in data set\n",
    "hiddenlayer1_neurons = 5 #number of 1st hidden layer's neurons\n",
    "hiddenlayer2_neurons = 5 #number of 2nd hidden layer's neurons\n",
    "output_neurons = 1 #number of neurons at output layer"
   ]
  },
  {
   "cell_type": "code",
   "execution_count": 97,
   "metadata": {
    "collapsed": true
   },
   "outputs": [],
   "source": [
    "#weight and bias initialization\n",
    "weights_input_to_hidden1 = np.random.normal(size=(inputlayer_neurons,hiddenlayer1_neurons))\n",
    "bias_input_to_hidden1 =np.random.normal(size=(1,hiddenlayer1_neurons))\n",
    "\n",
    "weights_hidden1_to_hidden2 = np.random.normal(size=(hiddenlayer1_neurons, hiddenlayer2_neurons))\n",
    "bias_hidden1_to_hidden2 =np.random.normal(size=(1,hiddenlayer2_neurons))\n",
    "\n",
    "weights_hidden2_to_output = np.random.normal(size=(hiddenlayer2_neurons,output_neurons))\n",
    "bias_hidden2_to_output=np.random.normal(size=(1,output_neurons))"
   ]
  },
  {
   "cell_type": "code",
   "execution_count": 98,
   "metadata": {
    "collapsed": false
   },
   "outputs": [
    {
     "name": "stdout",
     "output_type": "stream",
     "text": [
      "(4, 5)\n",
      "(5, 5)\n",
      "(5, 1)\n",
      "(1, 5)\n",
      "(1, 5)\n",
      "(1, 1)\n"
     ]
    }
   ],
   "source": [
    "print(weights_input_to_hidden1.shape)\n",
    "print(weights_hidden1_to_hidden2.shape)\n",
    "print(weights_hidden2_to_output.shape)\n",
    "\n",
    "print(bias_input_to_hidden1.shape)\n",
    "print(bias_hidden1_to_hidden2.shape)\n",
    "print(bias_hidden2_to_output.shape)"
   ]
  },
  {
   "cell_type": "markdown",
   "metadata": {},
   "source": [
    "#### Below is the graphical representation of our neural network"
   ]
  },
  {
   "cell_type": "markdown",
   "metadata": {},
   "source": [
    "<img src=\"_images/blog2_neural_network_image.JPG\" alt=\"drawing\" width=\"600px\"/>"
   ]
  },
  {
   "cell_type": "code",
   "execution_count": 109,
   "metadata": {
    "collapsed": false
   },
   "outputs": [
    {
     "name": "stdout",
     "output_type": "stream",
     "text": [
      "error after 1000.0 steps of training: 4.5861459892590495e-05\n",
      "error after 2000.0 steps of training: 1.9092478403121005e-05\n",
      "error after 3000.0 steps of training: -1.6421539600977586e-06\n",
      "error after 4000.0 steps of training: -1.7841797474195398e-05\n",
      "error after 5000.0 steps of training: -3.056806764186598e-05\n",
      "error after 6000.0 steps of training: -4.059112737680309e-05\n",
      "error after 7000.0 steps of training: -4.8481450229145157e-05\n",
      "error after 8000.0 steps of training: -5.4669274867177875e-05\n",
      "error after 9000.0 steps of training: -5.9484220777061836e-05\n",
      "error after 10000.0 steps of training: -6.318233896779324e-05\n"
     ]
    }
   ],
   "source": [
    "for i in range(epoch):\n",
    "    #Forward Propogation\n",
    "    hidden_layer1_activations = sigmoid(np.dot(X, weights_input_to_hidden1) + bias_input_to_hidden1)\n",
    "    hidden_layer2_activations = sigmoid(np.dot(hidden_layer1_activations, weights_hidden1_to_hidden2) + bias_hidden1_to_hidden2)\n",
    "    output_layer_activations = sigmoid(np.dot(hidden_layer2_activations, weights_hidden2_to_output) + bias_hidden2_to_output)\n",
    "\n",
    "    #Backpropagation\n",
    "    \n",
    "    #output to hidden2\n",
    "    error_output_layer = y - output_layer_activations\n",
    "    slope_output_layer = sigmoid_derivatives(output_layer_activations)\n",
    "    delta_output_layer = error_output_layer * slope_output_layer\n",
    "    weights_hidden2_to_output += hidden_layer2_activations.T.dot(delta_output_layer) * learning_rate\n",
    "    bias_hidden2_to_output += np.sum(delta_output_layer, axis=0, keepdims=True) * learning_rate\n",
    "    \n",
    "    #hidden2 to hidden1\n",
    "    slope_hidden_layer2 = sigmoid_derivatives(hidden_layer2_activations)    \n",
    "    error_hidden_layer2 = delta_output_layer.dot(weights_hidden2_to_output.T)\n",
    "    delta_hidden_layer2 = error_hidden_layer2 * slope_hidden_layer2\n",
    "    weights_hidden1_to_hidden2 += hidden_layer1_activations.T.dot(delta_hidden_layer2) * learning_rate\n",
    "    bias_hidden1_to_hidden2 += np.sum(delta_hidden_layer2, axis=0, keepdims=True) * learning_rate        \n",
    "    \n",
    "    #hidden1 to input\n",
    "    slope_hidden_layer1 = sigmoid_derivatives(hidden_layer1_activations)\n",
    "    error_hidden_layer1 = delta_hidden_layer2.dot(weights_hidden1_to_hidden2.T)\n",
    "    delta_hidden_layer1 = error_hidden_layer1 * slope_hidden_layer1\n",
    "    weights_input_to_hidden1 += X.T.dot(delta_hidden_layer1) * learning_rate    \n",
    "    bias_input_to_hidden += np.sum(delta_hidden_layer1, axis=0, keepdims=True) * True\n",
    "    \n",
    "    if i != 0 and i % 1000 == 0:\n",
    "        print(\"error after {0} steps of training: {1}\".format((i/1000*1000),np.sum(error_output_layer)))"
   ]
  },
  {
   "cell_type": "code",
   "execution_count": 110,
   "metadata": {
    "collapsed": false
   },
   "outputs": [
    {
     "name": "stdout",
     "output_type": "stream",
     "text": [
      "(3, 5)\n",
      "(3, 5)\n",
      "(3, 1)\n"
     ]
    }
   ],
   "source": [
    "print(hidden_layer1_activations.shape)\n",
    "print(hidden_layer2_activations.shape)\n",
    "print(output_layer_activations.shape)"
   ]
  },
  {
   "cell_type": "code",
   "execution_count": 111,
   "metadata": {
    "collapsed": false
   },
   "outputs": [
    {
     "name": "stdout",
     "output_type": "stream",
     "text": [
      "[[ 0.99076194]\n",
      " [ 0.9865682 ]\n",
      " [ 0.02273304]]\n"
     ]
    }
   ],
   "source": [
    "print(output_layer_activations)"
   ]
  },
  {
   "cell_type": "code",
   "execution_count": null,
   "metadata": {
    "collapsed": true
   },
   "outputs": [],
   "source": []
  }
 ],
 "metadata": {
  "kernelspec": {
   "display_name": "Python [conda root]",
   "language": "python",
   "name": "conda-root-py"
  },
  "language_info": {
   "codemirror_mode": {
    "name": "ipython",
    "version": 3
   },
   "file_extension": ".py",
   "mimetype": "text/x-python",
   "name": "python",
   "nbconvert_exporter": "python",
   "pygments_lexer": "ipython3",
   "version": "3.5.2"
  }
 },
 "nbformat": 4,
 "nbformat_minor": 2
}
