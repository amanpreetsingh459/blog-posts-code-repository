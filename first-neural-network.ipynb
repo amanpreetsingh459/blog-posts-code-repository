{
 "cells": [
  {
   "cell_type": "code",
   "execution_count": 1,
   "metadata": {
    "collapsed": true
   },
   "outputs": [],
   "source": [
    "import numpy as np\n",
    "class NeuralNetwork():\n",
    "    def __init__(self):\n",
    "        np.random.seed(3)\n",
    "        self.weights = np.random.random((3,1))\n",
    "        \n",
    "    def __sigmoid(self, number):\n",
    "        return 1/(1+np.exp(-number))\n",
    "    \n",
    "    def __sigmoid_derivative(self, number):\n",
    "        return number * (1 - number)\n",
    "        \n",
    "    def train(self, train_inputs, train_outputs, n_epochs):\n",
    "        count = 0\n",
    "        for iteration in range(n_epochs):\n",
    "            count += 1\n",
    "            output = self.calculate_logits(train_inputs)            \n",
    "            error = train_outputs - output\n",
    "            output_derivative = self.__sigmoid_derivative(output)\n",
    "            delta = error * output_derivative\n",
    "            weight_deltas = np.dot(train_inputs.T, delta)\n",
    "            self.weights += weight_deltas\n",
    "            if count%10000 == 0:\n",
    "                print(output)                                        \n",
    "            \n",
    "    def calculate_logits(self, train_inputs):\n",
    "        return self.__sigmoid(np.dot(train_inputs, self.weights))        "
   ]
  },
  {
   "cell_type": "code",
   "execution_count": 2,
   "metadata": {
    "collapsed": true
   },
   "outputs": [],
   "source": [
    "def main():\n",
    "    train_inputs = np.array([[0, 0, 1], [1, 1, 1], [1, 0, 1], [0, 1, 1]])\n",
    "    train_outputs = np.array([[0, 1, 1, 0]]).T\n",
    "    \n",
    "    neural_network = NeuralNetwork()\n",
    "\n",
    "    print(\"Supplied outputs into the network to learn from: \")\n",
    "    print(train_outputs)\n",
    "\n",
    "    print(\"Machine learnt outputs after training: \")\n",
    "    neural_network.train(train_inputs, train_outputs, 10000)            "
   ]
  },
  {
   "cell_type": "code",
   "execution_count": 3,
   "metadata": {
    "collapsed": false
   },
   "outputs": [
    {
     "name": "stdout",
     "output_type": "stream",
     "text": [
      "Supplied outputs into the network to learn from: \n",
      "[[0]\n",
      " [1]\n",
      " [1]\n",
      " [0]]\n",
      "Machine learnt outputs after training: \n",
      "[[ 0.00966619]\n",
      " [ 0.99211858]\n",
      " [ 0.99358984]\n",
      " [ 0.0078644 ]]\n"
     ]
    }
   ],
   "source": [
    "if __name__ == \"__main__\":\n",
    "    main()"
   ]
  },
  {
   "cell_type": "code",
   "execution_count": null,
   "metadata": {
    "collapsed": true
   },
   "outputs": [],
   "source": []
  }
 ],
 "metadata": {
  "kernelspec": {
   "display_name": "Python [conda root]",
   "language": "python",
   "name": "conda-root-py"
  },
  "language_info": {
   "codemirror_mode": {
    "name": "ipython",
    "version": 3
   },
   "file_extension": ".py",
   "mimetype": "text/x-python",
   "name": "python",
   "nbconvert_exporter": "python",
   "pygments_lexer": "ipython3",
   "version": "3.5.2"
  }
 },
 "nbformat": 4,
 "nbformat_minor": 2
}
